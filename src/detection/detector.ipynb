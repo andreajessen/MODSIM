{
 "cells": [
  {
   "cell_type": "code",
   "execution_count": 8,
   "metadata": {},
   "outputs": [],
   "source": [
    "#from xml.dom import minidom\n",
    "#import collections\n",
    "\n",
    "import os\n",
    "import cv2\n",
    "import random\n",
    "\n",
    "import matplotlib.pyplot as plt\n",
    "import matplotlib as matplot\n",
    "#import seaborn as sns\n",
    "#%matplotlib inline\n",
    "import json\n",
    "\n",
    "\n",
    "\n",
    "import yaml"
   ]
  },
  {
   "cell_type": "code",
   "execution_count": null,
   "metadata": {},
   "outputs": [],
   "source": [
    "# Read YAML file\n",
    "with open(\"config.yaml\", 'r') as stream:\n",
    "    config_file = yaml.safe_load(stream)\n",
    "\n",
    "DATASET_SRC_DIR = config_file['dataset_src_dir']\n",
    "#DATASET_SRC_DIR = os.getcwd()\n",
    "imageSetsPath = os.path.join(os.getcwd(), 'ImageSets/')\n",
    "\n",
    "\n",
    "# Read YAML file\n",
    "with open(\"coco_hurtigruten.json\", 'r') as stream:\n",
    "    data_loaded = yaml.safe_load(stream)\n",
    "    \n",
    "CLASSES = list(data_loaded['names'].values())\n",
    "NEW_DATASET_DIR = data_loaded['path'][1:]\n",
    "VAL_PATH = os.path.join(NEW_DATASET_DIR, data_loaded['val'])\n",
    "TRAIN_PATH = os.path.join(NEW_DATASET_DIR, data_loaded['train'])\n",
    "classes_dict = {\"D00\": \"Longitude cracks\", \"D10\": \"Lateral\", \"D20\": \"Alligator\", \"D40\": \"Pothole\"}"
   ]
  },
  {
   "cell_type": "code",
   "execution_count": 9,
   "metadata": {},
   "outputs": [],
   "source": [
    "ann_file = \"./hurtigruten/coco_hurtigruten.json\"\n",
    "f = open(ann_file)\n",
    "anns = json.load(f)\n",
    "CLASSES = {elm['id'] : elm['name'] for elm in anns['categories']}"
   ]
  },
  {
   "cell_type": "code",
   "execution_count": 12,
   "metadata": {},
   "outputs": [],
   "source": [
    "numb_images = ans['ima']"
   ]
  },
  {
   "cell_type": "code",
   "execution_count": 2,
   "metadata": {},
   "outputs": [
    {
     "name": "stdout",
     "output_type": "stream",
     "text": [
      "Collecting package metadata (current_repodata.json): done\n",
      "Solving environment: done\n",
      "\n",
      "# All requested packages already installed.\n",
      "\n"
     ]
    }
   ],
   "source": [
    "!conda install pycocotools"
   ]
  },
  {
   "cell_type": "code",
   "execution_count": 4,
   "metadata": {},
   "outputs": [
    {
     "ename": "SyntaxError",
     "evalue": "invalid syntax (3359594458.py, line 1)",
     "output_type": "error",
     "traceback": [
      "\u001b[0;36m  Cell \u001b[0;32mIn[4], line 1\u001b[0;36m\u001b[0m\n\u001b[0;31m    from conda pycocotools.coco import COCO\u001b[0m\n\u001b[0m               ^\u001b[0m\n\u001b[0;31mSyntaxError\u001b[0m\u001b[0;31m:\u001b[0m invalid syntax\n"
     ]
    }
   ],
   "source": [
    "from conda pycocotools.coco import COCO"
   ]
  },
  {
   "cell_type": "code",
   "execution_count": null,
   "metadata": {},
   "outputs": [],
   "source": [
    "ann_file = \"./hurtigruten/coco_hurtigruten.json\"\n",
    "\n",
    "coco=COCO(ann_file)"
   ]
  },
  {
   "cell_type": "code",
   "execution_count": null,
   "metadata": {},
   "outputs": [],
   "source": [
    "import numpy as np\n",
    "import matplotlib\n",
    "matplotlib.use('Agg')\n",
    "import matplotlib.pyplot as plt\n",
    "from PIL import Image\n",
    "import requests\n",
    "from pycocotools.coco import COCO\n",
    "\n",
    "\n",
    "coco_annotation_file_path = \"./hurtigruten/coco_hurtigruten.json\"\n",
    "\n",
    "coco_annotation = COCO(annotation_file=coco_annotation_file_path)"
   ]
  },
  {
   "cell_type": "code",
   "execution_count": null,
   "metadata": {},
   "outputs": [],
   "source": [
    "# Category IDs.\n",
    "cat_ids = coco_annotation.getCatIds()\n",
    "print(f\"Number of Unique Categories: {len(cat_ids)}\")\n",
    "print(\"Category IDs:\")\n",
    "print(cat_ids)  # The IDs are not necessarily consecutive.\n",
    "\n",
    "# All categories.\n",
    "cats = coco_annotation.loadCats(cat_ids)\n",
    "cat_names = [cat[\"name\"] for cat in cats]\n",
    "print(\"Categories Names:\")\n",
    "print(cat_names)"
   ]
  },
  {
   "cell_type": "code",
   "execution_count": null,
   "metadata": {},
   "outputs": [],
   "source": [
    "# Category ID -> Category Name.\n",
    "query_id = cat_ids[0]\n",
    "query_annotation = coco_annotation.loadCats([query_id])[0]\n",
    "query_name = query_annotation[\"name\"]\n",
    "query_supercategory = query_annotation[\"supercategory\"]\n",
    "print(\"Category ID -> Category Name:\")\n",
    "print(\n",
    "    f\"Category ID: {query_id}, Category Name: {query_name}, Supercategory: {query_supercategory}\"\n",
    ")"
   ]
  },
  {
   "cell_type": "code",
   "execution_count": null,
   "metadata": {},
   "outputs": [],
   "source": [
    "# Category Name -> Category ID.\n",
    "query_name = cat_names[2]\n",
    "query_id = coco_annotation.getCatIds(catNms=[query_name])[0]\n",
    "print(\"Category Name -> ID:\")\n",
    "print(f\"Category Name: {query_name}, Category ID: {query_id}\")"
   ]
  },
  {
   "cell_type": "code",
   "execution_count": null,
   "metadata": {},
   "outputs": [],
   "source": [
    "# Get the ID of all the images containing the object of the category.\n",
    "img_ids = coco_annotation.getImgIds(catIds=[query_id])\n",
    "print(f\"Number of Images Containing {query_name}: {len(img_ids)}\")"
   ]
  },
  {
   "cell_type": "code",
   "execution_count": null,
   "metadata": {},
   "outputs": [],
   "source": [
    "# Pick one image.\n",
    "img_id = img_ids[2]\n",
    "img_info = coco_annotation.loadImgs([img_id])[0]\n",
    "img_file_name = img_info[\"file_name\"]\n",
    "img_url = img_info[\"coco_url\"]\n",
    "print(\n",
    "    f\"Image ID: {img_id}, File Name: {img_file_name}, Image URL: {img_url}\"\n",
    ")\n",
    "\n",
    "# Get all the annotations for the specified image.\n",
    "ann_ids = coco_annotation.getAnnIds(imgIds=[img_id], iscrowd=None)\n",
    "anns = coco_annotation.loadAnns(ann_ids)\n",
    "print(f\"Annotations for Image ID {img_id}:\")\n",
    "print(anns)\n",
    "\n",
    "# Use URL to load image.\n",
    "im = Image.open(requests.get(img_url, stream=True).raw)\n",
    "\n",
    "# Save image and its labeled version.\n",
    "plt.axis(\"off\")\n",
    "plt.imshow(np.asarray(im))\n",
    "plt.savefig(f\"{img_id}.jpg\", bbox_inches=\"tight\", pad_inches=0)\n",
    "# Plot segmentation and bounding box.\n",
    "coco_annotation.showAnns(anns, draw_bbox=True)\n",
    "plt.savefig(f\"{img_id}_annotated.jpg\", bbox_inches=\"tight\", pad_inches=0)"
   ]
  }
 ],
 "metadata": {
  "kernelspec": {
   "display_name": "myvenv",
   "language": "python",
   "name": "python3"
  },
  "language_info": {
   "codemirror_mode": {
    "name": "ipython",
    "version": 3
   },
   "file_extension": ".py",
   "mimetype": "text/x-python",
   "name": "python",
   "nbconvert_exporter": "python",
   "pygments_lexer": "ipython3",
   "version": "3.10.7"
  },
  "orig_nbformat": 4
 },
 "nbformat": 4,
 "nbformat_minor": 2
}
