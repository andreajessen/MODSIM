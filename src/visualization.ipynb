{
 "cells": [
  {
   "cell_type": "code",
   "execution_count": 1,
   "metadata": {},
   "outputs": [],
   "source": [
    "import numpy as np\n",
    "from dynamicSceneGenerator import DynamicSceneGenerator\n",
    "from visualize import visualize_dynamic_scene, visualize_camera_pose_in_dsg, visualize_projections, visualize_bounding_boxes, visualize_distorted_bounding_boxes\n",
    "from MODSIM import create_and_place_simple_legacy_camera, project_all_points_from_json, project_all_points, create_all_bbs_from_json, create_dynamic_scene_with_random_tracks \n",
    "from utils import find_path_to_next_simulation\n",
    "from errorGenerator import ErrorGenerator\n",
    "from datatypes.cameraRig import CameraRig\n",
    "from datatypes.virtualCamera import VirtualCamera\n",
    "\n",
    "# Might need to pip install json, json_stream, as they are not default libraries\n",
    "import json\n",
    "import os\n"
   ]
  },
  {
   "cell_type": "code",
   "execution_count": 2,
   "metadata": {},
   "outputs": [],
   "source": [
    "# Find folder to save simultation trial to\n",
    "simulation_folder = find_path_to_next_simulation()"
   ]
  },
  {
   "cell_type": "code",
   "execution_count": 3,
   "metadata": {},
   "outputs": [],
   "source": [
    "# Generate dynamic scene with random tracks\n",
    "dsg = create_dynamic_scene_with_random_tracks(6, writeToJson=True, path=simulation_folder)"
   ]
  },
  {
   "cell_type": "code",
   "execution_count": 4,
   "metadata": {},
   "outputs": [],
   "source": [
    "# Visualize dynamic scene\n",
    "vessels = dsg.get_vessels()\n",
    "# visualize_dynamic_scene(vessels, folder_path=simulation_folder)"
   ]
  },
  {
   "cell_type": "code",
   "execution_count": 5,
   "metadata": {},
   "outputs": [],
   "source": [
    "##### Static Camera #####\n",
    "# Create simple legacy camera and place it in the dynamic scene\n",
    "camera = create_and_place_simple_legacy_camera(dsg.get_larges_radius(), dsg.get_path_centre())\n",
    "camera_rig = CameraRig(camera)\n",
    "# Visualize the camera position\n",
    "visualize_camera_pose_in_dsg(camera_rig, vessels, folder_path=simulation_folder)"
   ]
  },
  {
   "cell_type": "code",
   "execution_count": 5,
   "metadata": {},
   "outputs": [],
   "source": [
    "###### Dynamic Camera ######\n",
    "focal_length = 50*10**-3\n",
    "image_bounds = (3600, 2400) # Pixels (x,y)\n",
    "film_size = (36*10**-3, 24*10**-3)\n",
    "px = film_size[0]/image_bounds[0]\n",
    "py = film_size[1]/image_bounds[1]\n",
    "principal_point = (image_bounds[0]/2,image_bounds[1]/2)\n",
    "width_of_sensor = 36*10**-3 # Width of sensor\n",
    "roll_vcf = 0\n",
    "yaw_vcf = 0\n",
    "pitch_vcf = np.pi / 20\n",
    "pos_vcf = np.array([vessels[0].get_length()/2, 0, vessels[0].get_air_draft()/2])\n",
    "\n",
    "camera = VirtualCamera(focal_length, px, py, principal_point, image_bounds)\n",
    "camera.place_camera_on_vessel(pos_vcf, roll_vcf, pitch_vcf, yaw_vcf)\n",
    "camera_rig = CameraRig(camera, vessels[0])\n",
    "visualize_camera_pose_in_dsg(camera_rig, vessels, folder_path=simulation_folder, y_x_lim=600)"
   ]
  },
  {
   "cell_type": "code",
   "execution_count": 6,
   "metadata": {},
   "outputs": [],
   "source": [
    "# NOT read from JSON\n",
    "# all_projected_points = project_all_points(camera, vessels)\n",
    "\n",
    "# Read from Json\n",
    "all_projected_points = project_all_points_from_json(camera_rig, simulation_folder, writeToJson=True)\n",
    "\n",
    "# Visualize projections\n",
    "visualize_projections(all_projected_points, camera.image_bounds, show_box=True, folder_path=simulation_folder)"
   ]
  },
  {
   "cell_type": "code",
   "execution_count": 7,
   "metadata": {},
   "outputs": [],
   "source": [
    "# Read projected points from JSON and create bounding boxes\n",
    "all_bbs = create_all_bbs_from_json(simulation_folder, camera.image_bounds, occlusion=False, writeToJson=True)"
   ]
  },
  {
   "cell_type": "code",
   "execution_count": 9,
   "metadata": {},
   "outputs": [],
   "source": [
    "# Visualize BBS\n",
    "# With points in BBs\n",
    "# FIX THIS WHEN RIGHT PROJECTED POINTS ARE HERE\n",
    "# visualize_bounding_boxes(all_bbs, camera.image_bounds, projected_points=all_projected_points, show_projected_points=True, folder_path=simulation_folder)\n",
    "# Without\n",
    "visualize_bounding_boxes(all_bbs, camera.image_bounds, folder_path=simulation_folder)"
   ]
  },
  {
   "cell_type": "code",
   "execution_count": 10,
   "metadata": {},
   "outputs": [],
   "source": [
    "path = 'detector_stats_config.yaml'\n",
    "errorGenerator = ErrorGenerator(path)\n",
    "errorBBs = errorGenerator.generate_all_error_BBs(all_bbs)"
   ]
  },
  {
   "cell_type": "code",
   "execution_count": 10,
   "metadata": {},
   "outputs": [],
   "source": [
    "\n",
    "visualize_distorted_bounding_boxes(errorBBs, camera.image_bounds, show_original_BBS=True, original_BBs=all_bbs, folder_path=simulation_folder)\n"
   ]
  },
  {
   "cell_type": "code",
   "execution_count": null,
   "metadata": {},
   "outputs": [],
   "source": []
  }
 ],
 "metadata": {
  "kernelspec": {
   "display_name": "myvenv",
   "language": "python",
   "name": "python3"
  },
  "language_info": {
   "codemirror_mode": {
    "name": "ipython",
    "version": 3
   },
   "file_extension": ".py",
   "mimetype": "text/x-python",
   "name": "python",
   "nbconvert_exporter": "python",
   "pygments_lexer": "ipython3",
   "version": "3.9.13"
  },
  "orig_nbformat": 4,
  "vscode": {
   "interpreter": {
    "hash": "cd9570bf49f9b952fb29daa244b5c8b5b40ff513774df97d00f859d7a650f70e"
   }
  }
 },
 "nbformat": 4,
 "nbformat_minor": 2
}
