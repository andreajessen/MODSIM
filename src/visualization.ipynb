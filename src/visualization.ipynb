{
 "cells": [
  {
   "cell_type": "code",
   "execution_count": 8,
   "metadata": {},
   "outputs": [],
   "source": [
    "import numpy as np\n",
    "from dynamicSceneGenerator import DynamicSceneGenerator\n",
    "from visualize import visualize, visualize_camera_gif, visualize_projections\n",
    "from datatypes.virtualCamera import VirtualCamera"
   ]
  },
  {
   "cell_type": "code",
   "execution_count": 2,
   "metadata": {},
   "outputs": [],
   "source": [
    "def calculate_camera_position_WRF(focal_length, width_of_sensor, largest_radius, path_centre, camera_height):\n",
    "    angle_of_view = 2*np.arctan(width_of_sensor/(2*focal_length)) # In radians\n",
    "    d = largest_radius/np.tan(angle_of_view/2)\n",
    "    # Assume camera parallel to x axis and always pointing towards the centre of the path circle\n",
    "    x = d+path_centre[0]\n",
    "    y = path_centre[1]\n",
    "    z = camera_height\n",
    "    return np.array([x,y,z])\n",
    "\n",
    "def calculate_camera_pitch(camera_position):\n",
    "    alpha = np.arctan(camera_position[2]/camera_position[0]) # arctan(height/distance)\n",
    "    return alpha"
   ]
  },
  {
   "cell_type": "code",
   "execution_count": 3,
   "metadata": {},
   "outputs": [],
   "source": [
    "def create_and_place_simple_legacy_camera(largest_radius, path_centre): # This should maybe get a better name, and should be moved somewhere?\n",
    "    '''\n",
    "    Function for placing a Simple legacy photo camera in the dynamic scene\n",
    "    '''\n",
    "    # NB! Make sure everything is in meters\n",
    "    focal_length = 50*10**-3\n",
    "    image_bounds = (3600, 2400) # Pixels (x,y)\n",
    "    film_size = (36*10**-3, 24*10**-3)\n",
    "    px = film_size[0]/image_bounds[0]\n",
    "    py = film_size[1]/image_bounds[1]\n",
    "    principal_point = (image_bounds[0]/2,image_bounds[1]/2)\n",
    "    width_of_sensor = 36*10**-3 # Width of sensor\n",
    "    camera_height = 0 # metre\n",
    "\n",
    "    position_WRF = calculate_camera_position_WRF(focal_length, width_of_sensor, largest_radius, path_centre, camera_height)\n",
    "    roll = 0\n",
    "    yaw = -np.pi\n",
    "    pitch = -calculate_camera_pitch(position_WRF)\n",
    "\n",
    "    camera = VirtualCamera(position_WRF, roll, yaw, pitch, focal_length, px, py, principal_point, image_bounds)\n",
    "\n",
    "    return camera"
   ]
  },
  {
   "cell_type": "code",
   "execution_count": 4,
   "metadata": {},
   "outputs": [],
   "source": [
    "def project_all_points(camera, vessels):\n",
    "    all_projected_points = {}\n",
    "    for t in vessels[0].get_track().get_time_stamps():\n",
    "        points = [vessel.calculate_3D_cornerpoints(t) for vessel in vessels]\n",
    "        projected_points = [camera.project_points(vessel_points) for vessel_points in points]\n",
    "        all_projected_points[t] = projected_points\n",
    "    return all_projected_points"
   ]
  },
  {
   "cell_type": "code",
   "execution_count": 5,
   "metadata": {},
   "outputs": [],
   "source": [
    "# Generate dynamic scene with random tracks\n",
    "dsg = DynamicSceneGenerator()\n",
    "dsg.set_random_vessels(6)\n",
    "dsg.generate_random_tracks()\n",
    "vessels = dsg.get_vessels()\n",
    "visualize(vessels)"
   ]
  },
  {
   "cell_type": "code",
   "execution_count": 6,
   "metadata": {},
   "outputs": [],
   "source": [
    "camera = create_and_place_simple_legacy_camera(dsg.get_larges_radius(), dsg.get_path_centre())\n",
    "visualize_camera_gif(camera, vessels)"
   ]
  },
  {
   "cell_type": "code",
   "execution_count": 9,
   "metadata": {},
   "outputs": [],
   "source": [
    "all_projected_points = project_all_points(camera, vessels)\n",
    "visualize_projections(all_projected_points, camera.image_bounds)"
   ]
  },
  {
   "attachments": {},
   "cell_type": "markdown",
   "metadata": {},
   "source": [
    "![alt text](gifs/dynamicSceneExample.gif \"Dynamic scene\")"
   ]
  },
  {
   "attachments": {},
   "cell_type": "markdown",
   "metadata": {},
   "source": [
    "![alt text](gifs/camera_position.gif \"Camera scene\")\n"
   ]
  },
  {
   "attachments": {},
   "cell_type": "markdown",
   "metadata": {},
   "source": [
    "![alt text](gifs/projected_points.gif \"Projected scene\")\n"
   ]
  },
  {
   "cell_type": "markdown",
   "metadata": {},
   "source": []
  }
 ],
 "metadata": {
  "kernelspec": {
   "display_name": "Python 3.10.7 ('myvenv': venv)",
   "language": "python",
   "name": "python3"
  },
  "language_info": {
   "codemirror_mode": {
    "name": "ipython",
    "version": 3
   },
   "file_extension": ".py",
   "mimetype": "text/x-python",
   "name": "python",
   "nbconvert_exporter": "python",
   "pygments_lexer": "ipython3",
   "version": "3.10.7"
  },
  "orig_nbformat": 4,
  "vscode": {
   "interpreter": {
    "hash": "cd9570bf49f9b952fb29daa244b5c8b5b40ff513774df97d00f859d7a650f70e"
   }
  }
 },
 "nbformat": 4,
 "nbformat_minor": 2
}
