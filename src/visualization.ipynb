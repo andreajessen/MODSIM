{
 "cells": [
  {
   "cell_type": "code",
   "execution_count": 1,
   "metadata": {},
   "outputs": [],
   "source": [
    "from dynamicSceneGenerator import DynamicSceneGenerator\n",
    "from visualize import visualize, visualize_camera"
   ]
  },
  {
   "cell_type": "code",
   "execution_count": 2,
   "metadata": {},
   "outputs": [],
   "source": [
    "# Generate dynamic scene with random tracks\n",
    "dsg = DynamicSceneGenerator()\n",
    "dsg.set_random_vessels(6)\n",
    "dsg.generate_random_tracks()\n",
    "vessels = dsg.get_vessels()\n",
    "visualize(vessels)\n"
   ]
  },
  {
   "cell_type": "markdown",
   "metadata": {},
   "source": [
    "![SegmentLocal](dynamicSceneExample.gif \"Dynamic scene example\")"
   ]
  },
  {
   "cell_type": "code",
   "execution_count": 62,
   "metadata": {},
   "outputs": [],
   "source": [
    "import numpy as np\n",
    "\n",
    "# The numbers have been calculated to view the whole scene. But it is still not working :(\n",
    "focal_length = 200*10**-6\n",
    "\n",
    "px = py = 1*10**-6\n",
    "position_WRF = np.array([400,200,0])\n",
    "roll = 0\n",
    "yaw = np.pi\n",
    "pitch = 0\n",
    "principal_point = (150,150)\n",
    "image_bound = (300,300)\n",
    "time_stamp = 1"
   ]
  },
  {
   "cell_type": "code",
   "execution_count": 63,
   "metadata": {},
   "outputs": [],
   "source": [
    "from datatypes.virtualCamera import VirtualCamera\n",
    "\n",
    "# (self, position_WRF, roll, yaw, pitch, focal_length, p_x, p_y, principal_point, skew=0):\n",
    "camera = VirtualCamera(position_WRF, roll, yaw, pitch, focal_length, px, py, principal_point)"
   ]
  },
  {
   "cell_type": "code",
   "execution_count": 64,
   "metadata": {},
   "outputs": [
    {
     "name": "stdout",
     "output_type": "stream",
     "text": [
      "3.141592653589793\n",
      "399.0\n",
      "400.0\n"
     ]
    }
   ],
   "source": [
    "visualize_camera(time_stamp, camera, vessels, position_WRF[0]+50)"
   ]
  },
  {
   "cell_type": "markdown",
   "metadata": {},
   "source": [
    "![SegmentLocal](cameraPosition/cameraPosition_1.png \"Camera\")"
   ]
  },
  {
   "cell_type": "code",
   "execution_count": 65,
   "metadata": {},
   "outputs": [],
   "source": [
    "points = [vessel.calculate_3D_cornerpoints(time_stamp) for vessel in vessels]"
   ]
  },
  {
   "cell_type": "code",
   "execution_count": 66,
   "metadata": {},
   "outputs": [],
   "source": [
    "projected_points = [camera.project_points(vessel_points) for vessel_points in points]"
   ]
  },
  {
   "cell_type": "code",
   "execution_count": 67,
   "metadata": {},
   "outputs": [],
   "source": [
    "from visualize import plot_image"
   ]
  },
  {
   "cell_type": "code",
   "execution_count": 68,
   "metadata": {},
   "outputs": [],
   "source": [
    "plot_image(projected_points, image_bound, time_stamp)"
   ]
  },
  {
   "cell_type": "code",
   "execution_count": null,
   "metadata": {},
   "outputs": [],
   "source": []
  },
  {
   "cell_type": "code",
   "execution_count": 69,
   "metadata": {},
   "outputs": [
    {
     "data": {
      "text/plain": [
       "[array([[-153.75950031, -152.5073974 ,    1.        ],\n",
       "        [-155.13077751, -164.51436582,    1.        ],\n",
       "        [-159.84095476, -169.10744861,    1.        ],\n",
       "        [-158.42711321, -156.89502057,    1.        ],\n",
       "        [-138.57152529, -152.5073974 ,    1.        ],\n",
       "        [-139.87423863, -164.51436582,    1.        ],\n",
       "        [-144.34890702, -169.10744861,    1.        ],\n",
       "        [-143.00575755, -156.89502057,    1.        ]]),\n",
       " array([[-1.56621635e+03, -1.53671222e+03,  1.00000000e+00],\n",
       "        [-1.54898263e+03, -1.49011048e+03,  1.00000000e+00],\n",
       "        [-1.44743927e+03, -1.39289501e+03,  1.00000000e+00],\n",
       "        [-1.46266530e+03, -1.43575834e+03,  1.00000000e+00],\n",
       "        [-1.54905419e+03, -1.53671222e+03,  1.00000000e+00],\n",
       "        [-1.53199281e+03, -1.49011048e+03,  1.00000000e+00],\n",
       "        [-1.43146488e+03, -1.39289501e+03,  1.00000000e+00],\n",
       "        [-1.44653865e+03, -1.43575834e+03,  1.00000000e+00]]),\n",
       " array([[-91.29350168, -91.40753115,   1.        ],\n",
       "        [-91.43645061, -95.77402385,   1.        ],\n",
       "        [-93.6414806 , -97.96742546,   1.        ],\n",
       "        [-93.49590944, -93.55976706,   1.        ],\n",
       "        [-88.88056666, -91.40753115,   1.        ],\n",
       "        [-89.0220861 , -95.77402385,   1.        ],\n",
       "        [-91.2050658 , -97.96742546,   1.        ],\n",
       "        [-91.06095035, -93.55976706,   1.        ]]),\n",
       " array([[-463.3046524 , -609.84571989,    1.        ],\n",
       "        [-518.73346159, -663.64897021,    1.        ],\n",
       "        [-504.82356596, -641.66778551,    1.        ],\n",
       "        [-451.5848665 , -590.67979656,    1.        ],\n",
       "        [-432.63941978, -609.84571989,    1.        ],\n",
       "        [-485.29678851, -663.64897021,    1.        ],\n",
       "        [-472.08238766, -641.66778551,    1.        ],\n",
       "        [-421.50562318, -590.67979656,    1.        ]]),\n",
       " array([[-593.52241173, -835.26720352,    1.        ],\n",
       "        [-634.46790886, -881.3305796 ,    1.        ],\n",
       "        [-620.92996833, -858.89361755,    1.        ],\n",
       "        [-581.34985699, -814.73629677,    1.        ],\n",
       "        [-586.08718761, -835.26720352,    1.        ],\n",
       "        [-626.62322977, -881.3305796 ,    1.        ],\n",
       "        [-613.22066865, -858.89361755,    1.        ],\n",
       "        [-574.03635842, -814.73629677,    1.        ]]),\n",
       " array([[-198.25977801, -241.73434166,    1.        ],\n",
       "        [-332.55968007, -389.21447495,    1.        ],\n",
       "        [-331.07757865, -374.34300261,    1.        ],\n",
       "        [-197.48717947, -231.31970543,    1.        ],\n",
       "        [-185.20003634, -241.73434166,    1.        ],\n",
       "        [-314.46369207, -389.21447495,    1.        ],\n",
       "        [-313.03716945, -374.34300261,    1.        ],\n",
       "        [-184.45641024, -231.31970543,    1.        ]])]"
      ]
     },
     "execution_count": 69,
     "metadata": {},
     "output_type": "execute_result"
    }
   ],
   "source": [
    "projected_points"
   ]
  },
  {
   "attachments": {},
   "cell_type": "markdown",
   "metadata": {},
   "source": [
    "![SegmentLocal](projectedPoints/projectedPoints_1.png \"Dynamic scene example\")\n"
   ]
  },
  {
   "cell_type": "code",
   "execution_count": 14,
   "metadata": {},
   "outputs": [
    {
     "data": {
      "text/plain": [
       "0"
      ]
     },
     "execution_count": 14,
     "metadata": {},
     "output_type": "execute_result"
    }
   ],
   "source": [
    "-0*2"
   ]
  },
  {
   "cell_type": "code",
   "execution_count": null,
   "metadata": {},
   "outputs": [],
   "source": []
  }
 ],
 "metadata": {
  "kernelspec": {
   "display_name": "Python 3.10.7 ('myvenv': venv)",
   "language": "python",
   "name": "python3"
  },
  "language_info": {
   "codemirror_mode": {
    "name": "ipython",
    "version": 3
   },
   "file_extension": ".py",
   "mimetype": "text/x-python",
   "name": "python",
   "nbconvert_exporter": "python",
   "pygments_lexer": "ipython3",
   "version": "3.10.7"
  },
  "orig_nbformat": 4,
  "vscode": {
   "interpreter": {
    "hash": "cd9570bf49f9b952fb29daa244b5c8b5b40ff513774df97d00f859d7a650f70e"
   }
  }
 },
 "nbformat": 4,
 "nbformat_minor": 2
}
