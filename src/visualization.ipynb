{
 "cells": [
  {
   "cell_type": "code",
   "execution_count": 1,
   "metadata": {},
   "outputs": [],
   "source": [
    "import numpy as np\n",
    "from dynamicSceneGenerator import DynamicSceneGenerator\n",
    "from visualize import visualize, visualize_camera_gif, visualize_projections, visualize_bounding_boxes\n",
    "from datatypes.virtualCamera import VirtualCamera\n",
    "from datatypes.boundingBox import BoundingBox"
   ]
  },
  {
   "cell_type": "code",
   "execution_count": 2,
   "metadata": {},
   "outputs": [],
   "source": [
    "def calculate_camera_position_WRF(focal_length, width_of_sensor, largest_radius, path_centre, camera_height):\n",
    "    angle_of_view = 2*np.arctan(width_of_sensor/(2*focal_length)) # In radians\n",
    "    d = largest_radius/np.tan(angle_of_view/2)\n",
    "    # Assume camera parallel to x axis and always pointing towards the centre of the path circle\n",
    "    x = d+path_centre[0]\n",
    "    y = path_centre[1]\n",
    "    z = camera_height\n",
    "    return np.array([x,y,z])\n",
    "\n",
    "def calculate_camera_pitch(camera_position):\n",
    "    alpha = np.arctan(camera_position[2]/camera_position[0]) # arctan(height/distance)\n",
    "    return alpha"
   ]
  },
  {
   "cell_type": "code",
   "execution_count": 3,
   "metadata": {},
   "outputs": [],
   "source": [
    "def create_and_place_simple_legacy_camera(largest_radius, path_centre): # This should maybe get a better name, and should be moved somewhere?\n",
    "    '''\n",
    "    Function for placing a Simple legacy photo camera in the dynamic scene\n",
    "    '''\n",
    "    # NB! Make sure everything is in meters\n",
    "    focal_length = 50*10**-3\n",
    "    image_bounds = (3600, 2400) # Pixels (x,y)\n",
    "    film_size = (36*10**-3, 24*10**-3)\n",
    "    px = film_size[0]/image_bounds[0]\n",
    "    py = film_size[1]/image_bounds[1]\n",
    "    principal_point = (image_bounds[0]/2,image_bounds[1]/2)\n",
    "    width_of_sensor = 36*10**-3 # Width of sensor\n",
    "    camera_height = 60 # metre\n",
    "\n",
    "    position_WRF = calculate_camera_position_WRF(focal_length, width_of_sensor, largest_radius, path_centre, camera_height)\n",
    "    roll = 0\n",
    "    yaw = np.pi\n",
    "    pitch = calculate_camera_pitch(position_WRF)\n",
    "    \n",
    "    camera = VirtualCamera(position_WRF, roll, yaw, pitch, focal_length, px, py, principal_point, image_bounds)\n",
    "\n",
    "    return camera"
   ]
  },
  {
   "cell_type": "code",
   "execution_count": 4,
   "metadata": {},
   "outputs": [],
   "source": [
    "def project_all_points(camera, vessels):\n",
    "    all_projected_points = {}\n",
    "    for t in vessels[0].get_track().get_time_stamps():\n",
    "        points = [vessel.calculate_3D_cornerpoints(t) for vessel in vessels]\n",
    "        projected_points = [camera.project_points(vessel_points) for vessel_points in points]\n",
    "        all_projected_points[t] = projected_points\n",
    "    return all_projected_points\n",
    "\n",
    "# Where should we save the projected points? A separate class, in the dynamic scene?\n",
    "# And also the functions in this file should be in a separate class?"
   ]
  },
  {
   "cell_type": "code",
   "execution_count": 5,
   "metadata": {},
   "outputs": [],
   "source": [
    "def check_bb_overlap(bb1, bb2):\n",
    "    # How do we want to represent the BBs?\n",
    "    # Change this according to how the inputted BBs are structured: we need max x, y and min x, y for both BB\n",
    "    bb1_xmin = bb1.centre[0] - bb1.width/2\n",
    "    bb1_ymin = bb1.centre[1] - bb1.height/2\n",
    "    bb1_xmax = bb1.centre[0] + bb1.width/2\n",
    "    bb1_ymax = bb1.centre[1] + bb1.height/2\n",
    "    bb2_xmin = bb2.centre[0] - bb2.width/2\n",
    "    bb2_ymin = bb2.centre[1] - bb2.height/2\n",
    "    bb2_xmax = bb2.centre[0] + bb2.width/2\n",
    "    bb2_ymax = bb2.centre[1] + bb2.height/2\n",
    "\n",
    "    if bb1_xmin >= bb2_xmax or bb1_xmax <= bb2_xmin or bb1_ymin >= bb2_ymax or bb1_ymax <= bb2_ymin:\n",
    "        return False\n",
    "    return True"
   ]
  },
  {
   "cell_type": "code",
   "execution_count": 6,
   "metadata": {},
   "outputs": [],
   "source": [
    "def create_bound_boxes(projected_points):\n",
    "    bbs = []\n",
    "    for vessel in projected_points:\n",
    "        if vessel.size > 0:\n",
    "            vessel_x = np.array([point.image_coordinate[0] for point in vessel])\n",
    "            vessel_y = np.array([point.image_coordinate[1] for point in vessel])\n",
    "            vessel_depth = np.array([point.depth for point in vessel])\n",
    "            max_x = np.max(vessel_x)\n",
    "            min_x = np.min(vessel_x)\n",
    "            max_y = np.max(vessel_y)\n",
    "            min_y = np.min(vessel_y)\n",
    "            width = max_x-min_x\n",
    "            height = max_y - min_y\n",
    "            centre = [min_x+width/2, min_y+height/2]\n",
    "            depth = np.average(vessel_depth) #OBS which depth should we use\n",
    "            bounding_box = BoundingBox(None, centre, width, height, depth)\n",
    "            # Make sure these are in the correct order as in master thesis\n",
    "            bbs.append(bounding_box)\n",
    "    return bbs\n",
    "\n",
    "def remove_covered_bbs(bounding_boxes):\n",
    "    bbs = []\n",
    "    sorted_bbs = sorted(bounding_boxes, key=lambda bb: bb.depth, reverse=True)\n",
    "    for i in range(len(bounding_boxes)-1):\n",
    "        overlap = False\n",
    "        for j in range(i+1, len(bounding_boxes)):\n",
    "            if check_bb_overlap(sorted_bbs[i], sorted_bbs[j]):\n",
    "                overlap = True\n",
    "        if not overlap:\n",
    "            bbs.append(sorted_bbs[i])\n",
    "    bbs.append(sorted_bbs[-1])\n",
    "    return bbs\n"
   ]
  },
  {
   "cell_type": "code",
   "execution_count": 7,
   "metadata": {},
   "outputs": [],
   "source": [
    "def remove_covered_bbs(bounding_boxes):\n",
    "    bbs = []\n",
    "    sorted_bbs = sorted(bounding_boxes, key=lambda bb: bb.depth, reverse=True)\n",
    "    for i in range(len(bounding_boxes)-1):\n",
    "        overlap = False\n",
    "        for j in range(i+1, len(bounding_boxes)):\n",
    "            if check_bb_overlap(sorted_bbs[i], sorted_bbs[j]):\n",
    "                overlap = True\n",
    "        if not overlap:\n",
    "            bbs.append(sorted_bbs[i])\n",
    "    bbs.append(sorted_bbs[-1])\n",
    "    return bbs"
   ]
  },
  {
   "cell_type": "code",
   "execution_count": 8,
   "metadata": {},
   "outputs": [],
   "source": [
    "def check_nr_of_points_covered(bb1, bb2):\n",
    "    if bb2.get_xmin() < bb1.get_xmin() and bb2.get_xmax() > bb1.get_xmax() and bb2.get_ymax() > bb1.get_ymax() and bb2.get_ymin() > bb1.get_ymin() and bb2.get_ymin() < bb1.get_ymax():\n",
    "        height = bb2.get_ymin() - bb1.get_ymin()\n",
    "        centre = [bb1.centre[0], bb1.get_ymin()+height/2]\n",
    "        bb = BoundingBox(bb1.vesselID, centre, bb1.width, height, bb1.depth)\n",
    "        return bb\n",
    "    \n",
    "    elif bb2.get_xmin() < bb1.get_xmin() and bb2.get_xmax() > bb1.get_xmax() and bb2.get_ymax() < bb1.get_ymax() and bb2.get_ymax() < bb1.get_ymin() and bb2.get_ymin() < bb1.get_ymin():\n",
    "        height = bb1.get_ymax() - bb2.get_ymax()\n",
    "        centre = [bb1.centre[0], bb2.get_ymax() + height/2]\n",
    "        bb = BoundingBox(bb1.vesselID, centre, bb1.width, height, bb1.depth)\n",
    "        return bb\n",
    "    \n",
    "    elif bb2.get_ymin() < bb1.get_ymin() and bb2.get_ymax() > bb1.get_ymax() and bb2.get_xmin() < bb1.get_xmin() and bb2.get_xmax() > bb1.get_xmin() and bb2.get_xmax() < bb1.get_xmax():\n",
    "        width = bb1.get_xmax() - bb2.get_xmax()\n",
    "        centre = [bb2.get_xmax() + width/2, bb1.centre[1]]\n",
    "        bb = BoundingBox(bb1.vesselID, centre, width, bb1.height, bb1.depth)\n",
    "        return bb\n",
    "    \n",
    "    elif bb2.get_ymin() < bb1.get_ymin() and bb2.get_ymax() > bb1.get_ymax() and bb2.get_xmax() > bb1.get_xmax() and bb2.get_xmin() < bb1.get_xmax() and bb2.get_xmin() > bb1.get_xmin():\n",
    "        width = bb2.get_xmin() - bb1.get_xmin()\n",
    "        centre = [bb1.get_xmin() + width/2, bb1.centre[1]]\n",
    "        bb = BoundingBox(bb1.vesselID, centre, width, bb1.height, bb1.depth)\n",
    "        return bb\n",
    "    \n",
    "    else:\n",
    "        return bb1"
   ]
  },
  {
   "cell_type": "code",
   "execution_count": 9,
   "metadata": {},
   "outputs": [],
   "source": [
    "def check_bb_merge(bb1, bb2):\n",
    "    bb1_xmin = bb1.centre[0] - bb1.width/2\n",
    "    bb1_ymin = bb1.centre[1] - bb1.height/2\n",
    "    bb1_xmax = bb1.centre[0] + bb1.width/2\n",
    "    bb1_ymax = bb1.centre[1] + bb1.height/2\n",
    "    bb2_xmin = bb2.centre[0] - bb2.width/2\n",
    "    bb2_ymin = bb2.centre[1] - bb2.height/2\n",
    "    bb2_xmax = bb2.centre[0] + bb2.width/2\n",
    "    bb2_ymax = bb2.centre[1] + bb2.height/2\n",
    "\n",
    "    if bb1_xmin > bb2_xmax or bb1_xmax < bb2_xmin or bb1_ymin > bb2_ymax or bb1_ymax < bb2_ymin:\n",
    "        return False\n",
    "    return True"
   ]
  },
  {
   "cell_type": "code",
   "execution_count": 10,
   "metadata": {},
   "outputs": [],
   "source": [
    "def create_bbs_for_overlapping_area(bb1, bb2):\n",
    "    #x \n",
    "    x_xmin = np.max(np.array([bb1.get_xmin(), bb2.get_xmin()]))\n",
    "    x_xmax = np.min(np.array([bb1.get_xmax(), bb2.get_xmax()]))\n",
    "    x_ymin = np.max(np.array([bb1.get_ymin(), bb2.get_ymin()]))\n",
    "    x_ymax = np.min(np.array([bb1.get_ymax(), bb2.get_ymax()]))\n",
    "\n",
    "    width_x = x_xmax-x_xmin\n",
    "    height_x = x_ymax - x_ymin\n",
    "    centre_x = [x_xmin+width_x/2, x_ymin+height_x/2]\n",
    "\n",
    "    #y\n",
    "    y_xmin = np.min(np.array([bb1.get_xmin(), bb2.get_xmin()]))\n",
    "    y_xmax = np.max(np.array([bb1.get_xmax(), bb2.get_xmax()]))\n",
    "    y_ymin = np.min(np.array([bb1.get_ymin(), bb2.get_ymin()]))\n",
    "    y_ymax = np.max(np.array([bb1.get_ymax(), bb2.get_ymax()]))\n",
    "\n",
    "    width_y = y_xmax-y_xmin\n",
    "    height_y = y_ymax - y_ymin\n",
    "    centre_y = [y_xmin+width_y/2, y_ymin+height_y/2]\n",
    "\n",
    "\n",
    "    depth = np.min(np.array([bb1.depth, bb2.depth]))\n",
    "\n",
    "    new_bb_x = BoundingBox(None, centre_x, width_x, height_x, depth)\n",
    "    new_bb_y = BoundingBox(None, centre_y, width_y, height_y, depth)\n",
    "    return new_bb_x, new_bb_y"
   ]
  },
  {
   "cell_type": "code",
   "execution_count": 11,
   "metadata": {},
   "outputs": [],
   "source": [
    "def find_all_bbs_including_overlaps(bbs):\n",
    "    bbs_cover = []\n",
    "    if len(bbs)>1:\n",
    "        for i in range(len(bbs)-1):\n",
    "            for j in range(i+1, len(bbs)):\n",
    "                if check_bb_merge(bbs[i], bbs[j]):\n",
    "                    bb1, bb2 = create_bbs_for_overlapping_area(bbs[i], bbs[j])\n",
    "                    bbs_cover.append(bb1)\n",
    "                    bbs_cover.append(bb2)\n",
    "            bbs_cover.append(bbs[i])\n",
    "    else:\n",
    "        bbs_cover.append(bbs[0])\n",
    "    return bbs_cover"
   ]
  },
  {
   "cell_type": "code",
   "execution_count": 12,
   "metadata": {},
   "outputs": [],
   "source": [
    "def check_fully_covered(bb1, bb2):\n",
    "    bb1_xmin = bb1.centre[0] - bb1.width/2\n",
    "    bb1_ymin = bb1.centre[1] - bb1.height/2\n",
    "    bb1_xmax = bb1.centre[0] + bb1.width/2\n",
    "    bb1_ymax = bb1.centre[1] + bb1.height/2\n",
    "    bb2_xmin = bb2.centre[0] - bb2.width/2\n",
    "    bb2_ymin = bb2.centre[1] - bb2.height/2\n",
    "    bb2_xmax = bb2.centre[0] + bb2.width/2\n",
    "    bb2_ymax = bb2.centre[1] + bb2.height/2\n",
    "\n",
    "    if bb1_xmin >= bb2_xmin and bb1_xmax <= bb2_xmax and bb1_ymin >= bb2_ymin and bb1_ymax <= bb2_ymax:\n",
    "        return True\n",
    "    return False"
   ]
  },
  {
   "cell_type": "code",
   "execution_count": 13,
   "metadata": {},
   "outputs": [],
   "source": [
    "def find_new_bb(bb1, bbs_covering_bb1):\n",
    "    bbs_cover = find_all_bbs_including_overlaps(bbs_covering_bb1)\n",
    "    sorted_bbs = sorted(bbs_cover, key=lambda bb: bb.depth, reverse=True)\n",
    "    for i in range(len(sorted_bbs)):\n",
    "        bb1 = check_nr_of_points_covered(bb1, sorted_bbs[i])\n",
    "    return bb1"
   ]
  },
  {
   "cell_type": "code",
   "execution_count": 14,
   "metadata": {},
   "outputs": [],
   "source": [
    "def handle_covered_bbs(bounding_boxes):\n",
    "    bbs = []\n",
    "    sorted_bbs = sorted(bounding_boxes, key=lambda bb: bb.depth, reverse=True)\n",
    "    for i in range(len(bounding_boxes)-1):\n",
    "        bb1 = sorted_bbs[i]\n",
    "        fully_covered = False\n",
    "        covering_bbs = []\n",
    "        for j in range(i+1, len(bounding_boxes)):\n",
    "            if check_fully_covered(bb1, sorted_bbs[j]):\n",
    "                fully_covered = True\n",
    "            elif check_bb_overlap(bb1, sorted_bbs[j]):\n",
    "                covering_bbs.append(sorted_bbs[j])\n",
    "        if len(covering_bbs) > 0:\n",
    "            bb1 = find_new_bb(bb1, covering_bbs)\n",
    "        if not fully_covered:\n",
    "            bbs.append(bb1)\n",
    "    bbs.append(sorted_bbs[-1])\n",
    "    return bbs"
   ]
  },
  {
   "cell_type": "code",
   "execution_count": 15,
   "metadata": {},
   "outputs": [],
   "source": [
    "def create_all_bbs(all_projected_points):\n",
    "    all_bbs = {}\n",
    "    for t in all_projected_points.keys():\n",
    "        temp=create_bound_boxes(all_projected_points[t])\n",
    "        all_bbs[t] = handle_covered_bbs(temp)\n",
    "    return all_bbs"
   ]
  },
  {
   "cell_type": "code",
   "execution_count": 16,
   "metadata": {},
   "outputs": [],
   "source": [
    "# Generate dynamic scene with random tracks\n",
    "dsg = DynamicSceneGenerator()\n",
    "dsg.set_random_vessels(6)\n",
    "dsg.generate_random_tracks()\n",
    "vessels = dsg.get_vessels()\n",
    "visualize(vessels)"
   ]
  },
  {
   "cell_type": "code",
   "execution_count": 17,
   "metadata": {},
   "outputs": [],
   "source": [
    "camera = create_and_place_simple_legacy_camera(dsg.get_larges_radius(), dsg.get_path_centre())\n",
    "visualize_camera_gif(camera, vessels)"
   ]
  },
  {
   "cell_type": "code",
   "execution_count": 18,
   "metadata": {},
   "outputs": [],
   "source": [
    "all_projected_points = project_all_points(camera, vessels)\n",
    "visualize_projections(all_projected_points, camera.image_bounds)"
   ]
  },
  {
   "cell_type": "code",
   "execution_count": 19,
   "metadata": {},
   "outputs": [],
   "source": [
    "all_bbs = create_all_bbs(all_projected_points)\n",
    "# With points in BBs\n",
    "visualize_bounding_boxes(all_bbs, camera.image_bounds, projected_points=all_projected_points, show_projected_points=False)\n",
    "# Without\n",
    "#visualize_bounding_boxes(all_bbs, camera.image_bounds)\n"
   ]
  }
 ],
 "metadata": {
  "kernelspec": {
   "display_name": "base",
   "language": "python",
   "name": "python3"
  },
  "language_info": {
   "codemirror_mode": {
    "name": "ipython",
    "version": 3
   },
   "file_extension": ".py",
   "mimetype": "text/x-python",
   "name": "python",
   "nbconvert_exporter": "python",
   "pygments_lexer": "ipython3",
   "version": "3.9.13"
  },
  "orig_nbformat": 4,
  "vscode": {
   "interpreter": {
    "hash": "4fc62e9c2541abb384fe61ae98fb53392dd73d0cd4f6717c13273483b693d696"
   }
  }
 },
 "nbformat": 4,
 "nbformat_minor": 2
}
