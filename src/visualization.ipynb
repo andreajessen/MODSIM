{
 "cells": [
  {
   "cell_type": "code",
   "execution_count": 1,
   "metadata": {},
   "outputs": [],
   "source": [
    "import numpy as np\n",
    "from dynamicSceneGenerator import DynamicSceneGenerator\n",
    "from visualize import visualize, visualize_camera_gif, visualize_projections, visualize_bounding_boxes\n",
    "from datatypes.virtualCamera import VirtualCamera"
   ]
  },
  {
   "cell_type": "code",
   "execution_count": 2,
   "metadata": {},
   "outputs": [],
   "source": [
    "def calculate_camera_position_WRF(focal_length, width_of_sensor, largest_radius, path_centre, camera_height):\n",
    "    angle_of_view = 2*np.arctan(width_of_sensor/(2*focal_length)) # In radians\n",
    "    d = largest_radius/np.tan(angle_of_view/2)\n",
    "    # Assume camera parallel to x axis and always pointing towards the centre of the path circle\n",
    "    x = d+path_centre[0]\n",
    "    y = path_centre[1]\n",
    "    z = camera_height\n",
    "    return np.array([x,y,z])\n",
    "\n",
    "def calculate_camera_pitch(camera_position):\n",
    "    alpha = np.arctan(camera_position[2]/camera_position[0]) # arctan(height/distance)\n",
    "    return alpha"
   ]
  },
  {
   "cell_type": "code",
   "execution_count": 3,
   "metadata": {},
   "outputs": [],
   "source": [
    "def create_and_place_simple_legacy_camera(largest_radius, path_centre): # This should maybe get a better name, and should be moved somewhere?\n",
    "    '''\n",
    "    Function for placing a Simple legacy photo camera in the dynamic scene\n",
    "    '''\n",
    "    # NB! Make sure everything is in meters\n",
    "    focal_length = 50*10**-3\n",
    "    image_bounds = (3600, 2400) # Pixels (x,y)\n",
    "    film_size = (36*10**-3, 24*10**-3)\n",
    "    px = film_size[0]/image_bounds[0]\n",
    "    py = film_size[1]/image_bounds[1]\n",
    "    principal_point = (image_bounds[0]/2,image_bounds[1]/2)\n",
    "    width_of_sensor = 36*10**-3 # Width of sensor\n",
    "    camera_height = 60 # metre\n",
    "\n",
    "    position_WRF = calculate_camera_position_WRF(focal_length, width_of_sensor, largest_radius, path_centre, camera_height)\n",
    "    roll = np.pi/20\n",
    "    yaw = np.pi\n",
    "    pitch = calculate_camera_pitch(position_WRF)\n",
    "    \n",
    "    camera = VirtualCamera(position_WRF, roll, yaw, pitch, focal_length, px, py, principal_point, image_bounds)\n",
    "\n",
    "    return camera"
   ]
  },
  {
   "cell_type": "code",
   "execution_count": 4,
   "metadata": {},
   "outputs": [],
   "source": [
    "def project_all_points(camera, vessels):\n",
    "    all_projected_points = {}\n",
    "    for t in vessels[0].get_track().get_time_stamps():\n",
    "        points = [vessel.calculate_3D_cornerpoints(t) for vessel in vessels]\n",
    "        projected_points = [camera.project_points(vessel_points) for vessel_points in points]\n",
    "        all_projected_points[t] = projected_points\n",
    "    return all_projected_points\n",
    "\n",
    "# Where should we save the projected points? A separate class, in the dynamic scene?\n",
    "# And also the functions in this file should be in a separate class?"
   ]
  },
  {
   "cell_type": "code",
   "execution_count": 16,
   "metadata": {},
   "outputs": [],
   "source": [
    "def create_bound_boxes(projected_points):\n",
    "    bbs = []\n",
    "    for vessel in projected_points:\n",
    "        if vessel.size > 0:\n",
    "            vessel_x = np.array([point.image_coordinate[0] for point in vessel])\n",
    "            vessel_y = np.array([point.image_coordinate[1] for point in vessel])\n",
    "            max_x = np.max(vessel_x)\n",
    "            min_x = np.min(vessel_x)\n",
    "            max_y = np.max(vessel_y)\n",
    "            min_y = np.min(vessel_y)\n",
    "            bb = np.array([[min_x,min_y],[min_x, max_y],[max_x, max_y],[max_x, min_y]]) \n",
    "            # Make sure these are in the correct order as in master thesis\n",
    "            bbs.append(bb)\n",
    "    return bbs\n"
   ]
  },
  {
   "cell_type": "code",
   "execution_count": 17,
   "metadata": {},
   "outputs": [],
   "source": [
    "def create_all_bbs(all_projected_points):\n",
    "    all_bbs = {}\n",
    "    for t in all_projected_points.keys():\n",
    "        all_bbs[t]=create_bound_boxes(all_projected_points[t])\n",
    "    return all_bbs"
   ]
  },
  {
   "cell_type": "code",
   "execution_count": 7,
   "metadata": {},
   "outputs": [],
   "source": [
    "# Generate dynamic scene with random tracks\n",
    "dsg = DynamicSceneGenerator()\n",
    "dsg.set_random_vessels(6)\n",
    "dsg.generate_random_tracks()\n",
    "vessels = dsg.get_vessels()\n",
    "visualize(vessels)"
   ]
  },
  {
   "cell_type": "code",
   "execution_count": 8,
   "metadata": {},
   "outputs": [],
   "source": [
    "camera = create_and_place_simple_legacy_camera(dsg.get_larges_radius(), dsg.get_path_centre())\n",
    "visualize_camera_gif(camera, vessels)"
   ]
  },
  {
   "cell_type": "code",
   "execution_count": 9,
   "metadata": {},
   "outputs": [],
   "source": [
    "all_projected_points = project_all_points(camera, vessels)\n",
    "visualize_projections(all_projected_points, camera.image_bounds)"
   ]
  },
  {
   "cell_type": "code",
   "execution_count": 10,
   "metadata": {},
   "outputs": [
    {
     "data": {
      "text/plain": [
       "-0.09013170495151437"
      ]
     },
     "execution_count": 18,
     "metadata": {},
     "output_type": "execute_result"
    }
   ],
   "source": [
    "camera.pitch"
   ]
  },
  {
   "cell_type": "code",
   "execution_count": 18,
   "metadata": {},
   "outputs": [],
   "source": [
    "all_bbs = create_all_bbs(all_projected_points)\n",
    "# With points in BBs\n",
    "visualize_bounding_boxes(all_bbs, camera.image_bounds, projected_points=all_projected_points, show_projected_points=True)\n",
    "# Without\n",
    "#visualize_bounding_boxes(all_bbs, camera.image_bounds)\n"
   ]
  },
  {
   "attachments": {},
   "cell_type": "markdown",
   "metadata": {},
   "source": [
    "![alt text](gifs/dynamicSceneExample.gif \"Dynamic scene\")"
   ]
  },
  {
   "attachments": {},
   "cell_type": "markdown",
   "metadata": {},
   "source": [
    "![alt text](gifs/camera_position.gif \"Camera scene\")\n"
   ]
  },
  {
   "attachments": {},
   "cell_type": "markdown",
   "metadata": {},
   "source": [
    "![alt text](gifs/projected_points.gif \"Projected scene\")\n"
   ]
  },
  {
   "attachments": {},
   "cell_type": "markdown",
   "metadata": {},
   "source": [
    "![alt text](gifs/boundingBoxes.gif \"Projected scene\")\n"
   ]
  }
 ],
 "metadata": {
  "kernelspec": {
   "display_name": "base",
   "language": "python",
   "name": "python3"
  },
  "language_info": {
   "codemirror_mode": {
    "name": "ipython",
    "version": 3
   },
   "file_extension": ".py",
   "mimetype": "text/x-python",
   "name": "python",
   "nbconvert_exporter": "python",
   "pygments_lexer": "ipython3",
   "version": "3.9.13"
  },
  "orig_nbformat": 4,
  "vscode": {
   "interpreter": {
    "hash": "4fc62e9c2541abb384fe61ae98fb53392dd73d0cd4f6717c13273483b693d696"
   }
  }
 },
 "nbformat": 4,
 "nbformat_minor": 2
}
