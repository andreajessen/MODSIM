{
 "cells": [
  {
   "cell_type": "code",
   "execution_count": 1,
   "metadata": {},
   "outputs": [],
   "source": [
    "from dynamicSceneGenerator import DynamicSceneGenerator\n",
    "from visualize import visualize, visualize_camera"
   ]
  },
  {
   "cell_type": "code",
   "execution_count": 2,
   "metadata": {},
   "outputs": [],
   "source": [
    "# Generate dynamic scene with random tracks\n",
    "dsg = DynamicSceneGenerator()\n",
    "dsg.set_random_vessels(6)\n",
    "dsg.generate_random_tracks()\n",
    "vessels = dsg.get_vessels()\n",
    "visualize(vessels)\n"
   ]
  },
  {
   "cell_type": "markdown",
   "metadata": {},
   "source": [
    "![SegmentLocal](dynamicSceneExample.gif \"Dynamic scene example\")"
   ]
  },
  {
   "cell_type": "code",
   "execution_count": 76,
   "metadata": {},
   "outputs": [],
   "source": [
    "import numpy as np\n",
    "\n",
    "focal_length = 300*10**-6\n",
    "\n",
    "px = py = 150*10**-6\n",
    "position_WRF = np.array([500,200,0])\n",
    "roll = 0\n",
    "yaw = np.pi\n",
    "pitch = 0\n",
    "principal_point = (150,150)\n",
    "image_bound = (300,300)\n",
    "time_stamp = 166"
   ]
  },
  {
   "cell_type": "code",
   "execution_count": 77,
   "metadata": {},
   "outputs": [],
   "source": [
    "from datatypes.virtualCamera import VirtualCamera\n",
    "\n",
    "# (self, position_WRF, roll, yaw, pitch, focal_length, p_x, p_y, principal_point, skew=0):\n",
    "camera = VirtualCamera(position_WRF, roll, yaw, pitch, focal_length, px, py, principal_point)"
   ]
  },
  {
   "cell_type": "code",
   "execution_count": 78,
   "metadata": {},
   "outputs": [
    {
     "name": "stdout",
     "output_type": "stream",
     "text": [
      "3.141592653589793\n",
      "499.0\n",
      "500.0\n"
     ]
    }
   ],
   "source": [
    "visualize_camera(time_stamp, camera, vessels, position_WRF[0]+50)"
   ]
  },
  {
   "cell_type": "code",
   "execution_count": 79,
   "metadata": {},
   "outputs": [],
   "source": [
    "points = [vessel.calculate_3D_cornerpoints(time_stamp) for vessel in vessels]"
   ]
  },
  {
   "cell_type": "code",
   "execution_count": 80,
   "metadata": {},
   "outputs": [],
   "source": [
    "projected_points = [camera.project_points(vessel_points) for vessel_points in points]"
   ]
  },
  {
   "cell_type": "code",
   "execution_count": 81,
   "metadata": {},
   "outputs": [],
   "source": [
    "from visualize import plot_image"
   ]
  },
  {
   "cell_type": "code",
   "execution_count": 82,
   "metadata": {},
   "outputs": [],
   "source": [
    "plot_image(projected_points, image_bound, time_stamp)"
   ]
  },
  {
   "cell_type": "code",
   "execution_count": 83,
   "metadata": {},
   "outputs": [
    {
     "data": {
      "text/plain": [
       "[array([[149.99689711, 149.99718765,   1.        ],\n",
       "        [149.99683658, 149.99705326,   1.        ],\n",
       "        [149.99680023, 149.99703068,   1.        ],\n",
       "        [149.99686215, 149.99716702,   1.        ],\n",
       "        [149.99702123, 149.99718765,   1.        ],\n",
       "        [149.99696311, 149.99705326,   1.        ],\n",
       "        [149.99692822, 149.99703068,   1.        ],\n",
       "        [149.99698766, 149.99716702,   1.        ]]),\n",
       " array([[149.99539221, 149.99563967,   1.        ],\n",
       "        [149.99524206, 149.99548382,   1.        ],\n",
       "        [149.99522799, 149.99549848,   1.        ],\n",
       "        [149.99537902, 149.99565431,   1.        ],\n",
       "        [149.99542908, 149.99563967,   1.        ],\n",
       "        [149.99528012, 149.99548382,   1.        ],\n",
       "        [149.99526616, 149.99549848,   1.        ],\n",
       "        [149.99541598, 149.99565431,   1.        ]]),\n",
       " array([[149.99338658, 149.99426484,   1.        ],\n",
       "        [149.99321931, 149.99420012,   1.        ],\n",
       "        [149.99333406, 149.99431958,   1.        ],\n",
       "        [149.99349578, 149.99438033,   1.        ],\n",
       "        [149.99343948, 149.99426484,   1.        ],\n",
       "        [149.99327356, 149.99420012,   1.        ],\n",
       "        [149.99338739, 149.99431958,   1.        ],\n",
       "        [149.99354781, 149.99438033,   1.        ]]),\n",
       " array([[149.99456405, 149.99560155,   1.        ],\n",
       "        [149.9946368 , 149.99580818,   1.        ],\n",
       "        [149.99474768, 149.99588735,   1.        ],\n",
       "        [149.99467792, 149.99568609,   1.        ],\n",
       "        [149.99478149, 149.99560155,   1.        ],\n",
       "        [149.99485133, 149.99580818,   1.        ],\n",
       "        [149.99495777, 149.99588735,   1.        ],\n",
       "        [149.9948908 , 149.99568609,   1.        ]]),\n",
       " array([[149.99612276, 149.99625274,   1.        ],\n",
       "        [149.99603329, 149.99613538,   1.        ],\n",
       "        [149.99600686, 149.99612954,   1.        ],\n",
       "        [149.99609751, 149.9962478 ,   1.        ],\n",
       "        [149.99615378, 149.99625274,   1.        ],\n",
       "        [149.99606502, 149.99613538,   1.        ],\n",
       "        [149.9960388 , 149.99612954,   1.        ],\n",
       "        [149.99612873, 149.9962478 ,   1.        ]]),\n",
       " array([[149.99669535, 149.99781629,   1.        ],\n",
       "        [149.99690706, 149.99758161,   1.        ],\n",
       "        [149.99680419, 149.99747841,   1.        ],\n",
       "        [149.99657764, 149.99771414,   1.        ],\n",
       "        [149.99679449, 149.99781629,   1.        ],\n",
       "        [149.99699985, 149.99758161,   1.        ],\n",
       "        [149.99690006, 149.99747841,   1.        ],\n",
       "        [149.99668031, 149.99771414,   1.        ]])]"
      ]
     },
     "execution_count": 83,
     "metadata": {},
     "output_type": "execute_result"
    }
   ],
   "source": [
    "projected_points"
   ]
  },
  {
   "cell_type": "code",
   "execution_count": null,
   "metadata": {},
   "outputs": [],
   "source": []
  }
 ],
 "metadata": {
  "kernelspec": {
   "display_name": "Python 3.10.7 ('myvenv': venv)",
   "language": "python",
   "name": "python3"
  },
  "language_info": {
   "codemirror_mode": {
    "name": "ipython",
    "version": 3
   },
   "file_extension": ".py",
   "mimetype": "text/x-python",
   "name": "python",
   "nbconvert_exporter": "python",
   "pygments_lexer": "ipython3",
   "version": "3.10.7"
  },
  "orig_nbformat": 4,
  "vscode": {
   "interpreter": {
    "hash": "cd9570bf49f9b952fb29daa244b5c8b5b40ff513774df97d00f859d7a650f70e"
   }
  }
 },
 "nbformat": 4,
 "nbformat_minor": 2
}
