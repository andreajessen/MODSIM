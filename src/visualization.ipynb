{
 "cells": [
  {
   "cell_type": "code",
   "execution_count": 1,
   "metadata": {},
   "outputs": [],
   "source": [
    "import numpy as np\n",
    "from dynamicSceneGenerator import DynamicSceneGenerator\n",
    "from visualize import visualize, visualize_camera_gif, visualize_projections, visualize_bounding_boxes\n",
    "from MODSIM import create_and_place_simple_legacy_camera, project_all_points_from_json, project_all_points, create_all_bbs_from_json, create_dynamic_scene_with_random_tracks \n",
    "from utils import find_path_to_next_simulation\n",
    "\n",
    "# Might need to pip install json, json_stream, as they are not default libraries\n",
    "import json\n",
    "import os"
   ]
  },
  {
   "cell_type": "code",
   "execution_count": 2,
   "metadata": {},
   "outputs": [],
   "source": [
    "# Find folder to save simultation trial to\n",
    "simulation_folder = find_path_to_next_simulation()"
   ]
  },
  {
   "cell_type": "code",
   "execution_count": 3,
   "metadata": {},
   "outputs": [],
   "source": [
    "# Generate dynamic scene with random tracks\n",
    "dsg = create_dynamic_scene_with_random_tracks(6, writeToJson=True, path=simulation_folder)"
   ]
  },
  {
   "cell_type": "code",
   "execution_count": 4,
   "metadata": {},
   "outputs": [],
   "source": [
    "# Visualize dynamic scene\n",
    "vessels = dsg.get_vessels()\n",
    "visualize(vessels, folder_path=simulation_folder)"
   ]
  },
  {
   "cell_type": "code",
   "execution_count": 5,
   "metadata": {},
   "outputs": [],
   "source": [
    "# Create simple legacy camera and place it in the dynamic scene\n",
    "camera = create_and_place_simple_legacy_camera(dsg.get_larges_radius(), dsg.get_path_centre())\n",
    "\n",
    "# Visualize the camera position\n",
    "visualize_camera_gif(camera, vessels, folder_path=simulation_folder)"
   ]
  },
  {
   "cell_type": "code",
   "execution_count": 6,
   "metadata": {},
   "outputs": [],
   "source": [
    "# NOT read from JSON\n",
    "# all_projected_points = project_all_points(camera, vessels)\n",
    "\n",
    "# Read from Json\n",
    "all_projected_points = project_all_points_from_json(camera, simulation_folder, writeTojson=True)\n",
    "\n",
    "# Visualize projections\n",
    "visualize_projections(all_projected_points, camera.image_bounds, folder_path=simulation_folder)"
   ]
  },
  {
   "cell_type": "code",
   "execution_count": 7,
   "metadata": {},
   "outputs": [],
   "source": [
    "# Read projected points from JSON and create bouning boxes\n",
    "all_bbs = create_all_bbs_from_json(simulation_folder, writeToJson=True)"
   ]
  },
  {
   "cell_type": "code",
   "execution_count": 11,
   "metadata": {},
   "outputs": [],
   "source": [
    "# Visualize BBS\n",
    "# With points in BBs\n",
    "# FIX THIS WHEN RIGHT PROJECTED POINTS ARE HERE\n",
    "# visualize_bounding_boxes(all_bbs, camera.image_bounds, projected_points=all_projected_points, show_projected_points=True, folder_path=simulation_folder)\n",
    "# Without\n",
    "visualize_bounding_boxes(all_bbs, camera.image_bounds)"
   ]
  }
 ],
 "metadata": {
  "kernelspec": {
   "display_name": "Python 3.10.7 ('myvenv': venv)",
   "language": "python",
   "name": "python3"
  },
  "language_info": {
   "codemirror_mode": {
    "name": "ipython",
    "version": 3
   },
   "file_extension": ".py",
   "mimetype": "text/x-python",
   "name": "python",
   "nbconvert_exporter": "python",
   "pygments_lexer": "ipython3",
   "version": "3.10.7"
  },
  "orig_nbformat": 4,
  "vscode": {
   "interpreter": {
    "hash": "cd9570bf49f9b952fb29daa244b5c8b5b40ff513774df97d00f859d7a650f70e"
   }
  }
 },
 "nbformat": 4,
 "nbformat_minor": 2
}
