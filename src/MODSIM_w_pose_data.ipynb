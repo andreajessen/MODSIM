{
 "cells": [
  {
   "cell_type": "code",
   "execution_count": 1,
   "metadata": {},
   "outputs": [],
   "source": [
    "# Might need to pip install json, json_stream, as they are not default libraries\n",
    "import json\n",
    "import json_stream\n",
    "import numpy as np\n",
    "import os\n",
    "import yaml\n",
    "import math\n",
    "\n",
    "from MODSIM import perform_one_time_step_poseData, create_and_place_simple_legacy_camera, calculate_start_state\n",
    "from datatypes.vessel import Vessel\n",
    "from dynamicSceneGenerator import DynamicSceneGenerator\n",
    "from errorGenerator import ErrorGenerator\n",
    "from datatypes.cameraRig import CameraRig\n",
    "from datatypes.virtualCamera import VirtualCamera\n",
    "from datatypes.conditionState import ConditionState\n",
    "from visualize import *\n"
   ]
  },
  {
   "attachments": {},
   "cell_type": "markdown",
   "metadata": {},
   "source": [
    "# Initialize MODSIM"
   ]
  },
  {
   "cell_type": "code",
   "execution_count": 2,
   "metadata": {},
   "outputs": [],
   "source": [
    "vehicle_characteristics_path = 'boats_in_fishtank/vehicle_characteristics.json'\n",
    "dynamics_path = 'boats_in_fishtank/dynamics.json'\n",
    "simulation_folder = './boats_in_fishtank/simulation/'"
   ]
  },
  {
   "cell_type": "code",
   "execution_count": 3,
   "metadata": {},
   "outputs": [],
   "source": [
    "ERROR_CONFIG_PATH = 'detector_stats_config.yaml'\n",
    "WRITE_TO_JSON = True\n",
    "VISUALIZE=True\n",
    "CALCULATE = True\n",
    "MIN_VESSELS = 1\n",
    "MAX_TIME_STEPS = 10\n",
    "FPS = 10"
   ]
  },
  {
   "cell_type": "code",
   "execution_count": 4,
   "metadata": {},
   "outputs": [],
   "source": [
    "# Camera types: 'STATIC_LEGACY', 'DYNAMIC'\n",
    "STATIC_LEGACY = 'STATIC_LEGACY'\n",
    "DYNAMIC = 'DYNAMIC'\n",
    "DYNAMIC_CORAL_CAMERA = 'DYNAMIC_CORAL_CAMERA'\n",
    "DNV_CAM = 'DNV_CAM'\n",
    "ZED = 'ZED'\n",
    "MID = 'MID'\n",
    "LEFT = 'LEFT'\n",
    "RIGHT = 'RIGHT'\n",
    "\n",
    "CAMERA_TYPES = [DNV_CAM]\n",
    "CAMERA_PLACEMENTS = [LEFT, RIGHT]\n",
    "\n",
    "# Roll, yaw, pitch\n",
    "ORIENTATION = [[0, np.pi/8, np.pi/200], [0, -np.pi/8, np.pi/200]]"
   ]
  },
  {
   "cell_type": "code",
   "execution_count": 5,
   "metadata": {},
   "outputs": [],
   "source": [
    "NO_DISTURBANCE  = 0\n",
    "SMALL_DISTURBANCE  = 1\n",
    "MEDIUM_DISTURBANCE  = 2\n",
    "LARGE_DISTURBANCE  = 4\n",
    "HUGE_DISTURBANCE  = 6\n",
    "\n",
    "\n",
    "wave_induced_camera_disturbance_coef = SMALL_DISTURBANCE  # int from 0-4"
   ]
  },
  {
   "cell_type": "code",
   "execution_count": 6,
   "metadata": {},
   "outputs": [],
   "source": [
    "VESSEL_TO_PLACE_CAMERA_ON=3"
   ]
  },
  {
   "attachments": {},
   "cell_type": "markdown",
   "metadata": {},
   "source": [
    "### Temporal model"
   ]
  },
  {
   "cell_type": "code",
   "execution_count": 7,
   "metadata": {},
   "outputs": [],
   "source": [
    "numb_states = 4\n",
    "\n",
    "with open('detector_stats_config.yaml', 'r') as stream:\n",
    "            config = yaml.safe_load(stream)\n",
    "if config.get('detectionConditions'):\n",
    "    start_state = calculate_start_state(config.get('detectionConditions'), numb_states)\n",
    "else:\n",
    "    # Default is excellent weather\n",
    "    start_state = calculate_start_state({'precipitation': 0, 'fog': 0, 'wind': 0, 'darkness': 0}, numb_states)\n",
    "\n",
    "CM = config.get('confusionMatrix')\n",
    "CM0 = {'FN': round(CM['FN']/3,3), 'FP': round(CM['FP']/3,3), 'TP': 1-round(CM['FN']/3,3), 'TN': 1 - round(CM['FP']/3,3)}\n",
    "CM1 = {'FN': round(CM['FN']/1.5,3), 'FP': round(CM['FP']/1.5,3), 'TP': 1-round(CM['FN']/1.5,3), 'TN': 1 - round(CM['FP']/1.5,3)}\n",
    "CM2 = {'FN': round(min(CM['FN']*1.5, 0.99),3), 'FP': round(min(CM['FP']*1.5, 0.99),3), 'TP': 1-round(min(CM['FN']*1.5, 0.99),3), 'TN': 1 - round(min(CM['FP']*1.5, 0.99),3)}\n",
    "CM3 = {'FN': round(min(CM['FN']*3, 0.99),3), 'FP': round(min(CM['FP']*3, 0.99),3), 'TP': 1-round(min(CM['FN']*3, 0.99),3), 'TN': 1 - round(min(CM['FP']*3, 0.99),3)}\n",
    "\n",
    "\n",
    "TM =  np.array([[0.996, 0.0017, 0.0006, 0.0006],[0.0022, 0.996, 0.0017, 0.0012],[0.0012, 0.0017, 0.996, 0.0022],[0.0006, 0.0006, 0.0017, 0.996]])\n",
    "states = {0: ConditionState('Excellent conditions', 0, CM0), 1: ConditionState('Good conditions', 1, CM1), 2: ConditionState('Poor conditions', 2, CM2), 3: ConditionState('Terrible conditions', 3, CM3)}\n"
   ]
  },
  {
   "cell_type": "code",
   "execution_count": 8,
   "metadata": {},
   "outputs": [],
   "source": [
    "CM_label = config.get('confusionMatrixLabels')\n",
    "false_positives_label = config.get('falsePositives')\n",
    "\n",
    "cms_label = {}\n",
    "state_multiplicate = [1/3, 1/1.5, 1.5, 3]\n",
    "if CM_label:\n",
    "    for s in range(numb_states):\n",
    "        s_factor = state_multiplicate[s]\n",
    "        all_new_values = {}\n",
    "        for i, label in enumerate(CM_label.keys()):\n",
    "            values = CM_label[label]\n",
    "            drop_out = 1-sum(values)\n",
    "            incorrect_detection = sum([e for indx, e in enumerate(values) if indx != i])+drop_out\n",
    "            new_values = []\n",
    "            for v in range(len(values)):\n",
    "                if v == i:\n",
    "                    new_values.append(round(1-min(incorrect_detection*s_factor,0.99), 3))\n",
    "                else:\n",
    "                    new_values.append(round(min(values[v]*s_factor, 0.99), 3))\n",
    "            all_new_values[label] = new_values\n",
    "        \n",
    "        states[s].set_confusion_matrix_labels(all_new_values)"
   ]
  },
  {
   "attachments": {},
   "cell_type": "markdown",
   "metadata": {},
   "source": [
    "### Error generator"
   ]
  },
  {
   "cell_type": "code",
   "execution_count": 9,
   "metadata": {},
   "outputs": [],
   "source": [
    "## Error generator\n",
    "errorGenerator = ErrorGenerator(ERROR_CONFIG_PATH, temporal_model=True, states=states, start_state=start_state, transition_matrix=TM)"
   ]
  },
  {
   "attachments": {},
   "cell_type": "markdown",
   "metadata": {},
   "source": [
    "### DSG"
   ]
  },
  {
   "cell_type": "code",
   "execution_count": 10,
   "metadata": {},
   "outputs": [],
   "source": [
    "# Get vessels\n",
    "with open(vehicle_characteristics_path, 'r') as f:\n",
    "    vessel_dict = json.load(f)\n",
    "\n",
    "# air_draft: int = 2, beam: int = 2, length: int = 4, label: str = \"\")\n",
    "vessels = [Vessel(vesselID, length=vessel['length_m'], beam=vessel['width_m'], label=vessel['type']) for vesselID, vessel in vessel_dict.items()]"
   ]
  },
  {
   "cell_type": "code",
   "execution_count": 11,
   "metadata": {},
   "outputs": [],
   "source": [
    "# Create dynamic scene with vessels\n",
    "dsg = DynamicSceneGenerator(vessels)"
   ]
  },
  {
   "cell_type": "code",
   "execution_count": 12,
   "metadata": {},
   "outputs": [],
   "source": [
    "vessel_dict = {vessel.id: vessel for vessel in dsg.get_vessels()}"
   ]
  },
  {
   "attachments": {},
   "cell_type": "markdown",
   "metadata": {},
   "source": [
    "### Camera"
   ]
  },
  {
   "cell_type": "code",
   "execution_count": 13,
   "metadata": {},
   "outputs": [],
   "source": [
    "def get_pos_vcf(vessel, placement):\n",
    "    if placement == LEFT:\n",
    "        return np.array([vessel.get_length()/2, vessel.get_beam()/2, vessel.get_air_draft()/2])\n",
    "    elif placement == RIGHT:\n",
    "        return np.array([vessel.get_length()/2, -vessel.get_beam()/2, vessel.get_air_draft()/2])\n",
    "    else:\n",
    "        # Default MID\n",
    "        return np.array([vessel.get_length()/2, 0, vessel.get_air_draft()/2])\n"
   ]
  },
  {
   "cell_type": "code",
   "execution_count": 14,
   "metadata": {},
   "outputs": [],
   "source": [
    "cameras = {}\n",
    "for cameraID, cameraType in enumerate(CAMERA_TYPES):\n",
    "    if cameraType == STATIC_LEGACY:\n",
    "        VESSEL_TO_PLACE_CAMERA_ON = None\n",
    "        ##### Static Camera #####\n",
    "        # Create simple legacy camera and place it in the dynamic scene\n",
    "        camera = create_and_place_simple_legacy_camera(dsg.get_larges_radius(), dsg.get_path_centre())\n",
    "\n",
    "        ########################### OBS  ###################################################### \n",
    "        # If there is a static camera, there can only be one camera in the camera rig\n",
    "        ####################################################################################### \n",
    "        cameras = {}\n",
    "        cameras[0] = camera\n",
    "        vessel = None\n",
    "        break\n",
    "\n",
    "    elif cameraType == DYNAMIC:\n",
    "        ###### Dynamic Camera ######\n",
    "        focal_length = 50*10**-3\n",
    "        image_bounds = (3600, 2400) # Pixels (x,y)\n",
    "        film_size = (36*10**-3, 24*10**-3)\n",
    "        px = film_size[0]/image_bounds[0]\n",
    "        py = film_size[1]/image_bounds[1]\n",
    "        principal_point = (image_bounds[0]/2,image_bounds[1]/2)\n",
    "        width_of_sensor = 36*10**-3 # Width of sensor\n",
    "\n",
    "        # Pose\n",
    "        roll_vcf = ORIENTATION[cameraID][0]\n",
    "        yaw_vcf = ORIENTATION[cameraID][1]\n",
    "        pitch_vcf = ORIENTATION[cameraID][2]\n",
    "        vessel = vessels[VESSEL_TO_PLACE_CAMERA_ON] # Must be the same for al cameras in the camera rig\n",
    "        pos_vcf = get_pos_vcf(vessel, CAMERA_PLACEMENTS[cameraID])\n",
    "\n",
    "        camera = VirtualCamera(focal_length, px, py, principal_point, image_bounds)\n",
    "        camera.place_camera_on_vessel(pos_vcf, roll_vcf, pitch_vcf, yaw_vcf)\n",
    "    elif cameraType == DYNAMIC_CORAL_CAMERA:\n",
    "        # https://www.tme.eu/Document/3e25990c825098a96a442d65b17c6632/CORAL-CAMERA-5MP.pdf\n",
    "        ###### Dynamic Camera ######\n",
    "        # Intrinsics\n",
    "        # NB! Make sure everything is in meters\n",
    "        focal_length = 2.5*10**-3\n",
    "        image_bounds = (2592, 1933) # Pixels (x,y)\n",
    "        #film_size = (1.4*10**-3, 1.4*10**-3)\n",
    "        px = 1.4*10**-6\n",
    "        py = 1.4*10**-6\n",
    "        #px = 2*10**-6\n",
    "        #py = 2*10**-6\n",
    "        principal_point = (image_bounds[0]/2,image_bounds[1]/2)\n",
    "        width_of_sensor = 36*10**-3 # Width of sensor\n",
    "\n",
    "        # Pose\n",
    "        roll_vcf = ORIENTATION[cameraID][0]\n",
    "        yaw_vcf = ORIENTATION[cameraID][1]\n",
    "        pitch_vcf = ORIENTATION[cameraID][2]\n",
    "        vessel = vessels[VESSEL_TO_PLACE_CAMERA_ON]\n",
    "        pos_vcf = get_pos_vcf(vessel, CAMERA_PLACEMENTS[cameraID])\n",
    "\n",
    "        camera = VirtualCamera(focal_length, px, py, principal_point, image_bounds)\n",
    "        camera.place_camera_on_vessel(pos_vcf, roll_vcf, pitch_vcf, yaw_vcf)\n",
    "    elif cameraType == ZED:\n",
    "        # Intrinsics\n",
    "        # NB! Make sure everything is in meters\n",
    "        focal_length = 2.8*10**-3\n",
    "        image_bounds = (2688, 1520) # Pixels (x,y)\n",
    "        #film_size = (1.4*10**-3, 1.4*10**-3)\n",
    "        fx = 1404.2700\n",
    "        fy = 1404.8199\n",
    "        px = focal_length/fx\n",
    "        py = focal_length/fy\n",
    "        #px = 2*10**-6\n",
    "        #py = 2*10**-6\n",
    "        principal_point = (1110.9700,614.7650)\n",
    "\n",
    "        # Pose\n",
    "        roll_vcf = ORIENTATION[cameraID][0]\n",
    "        yaw_vcf = ORIENTATION[cameraID][1]\n",
    "        pitch_vcf = ORIENTATION[cameraID][2]\n",
    "        vessel = vessels[VESSEL_TO_PLACE_CAMERA_ON]\n",
    "        pos_vcf = get_pos_vcf(vessel, CAMERA_PLACEMENTS[cameraID])\n",
    "\n",
    "\n",
    "        camera = VirtualCamera(focal_length, px, py, principal_point, image_bounds)\n",
    "        camera.place_camera_on_vessel(pos_vcf, roll_vcf, pitch_vcf, yaw_vcf)\n",
    "    elif cameraType == DNV_CAM:\n",
    "        width = 2464\n",
    "        height = 2056\n",
    "        h_fov = 55 # degrees\n",
    "\n",
    "        # NB! Make sure everything is in meters\n",
    "        image_bounds = (2464, 2056) # Pixels (x,y)\n",
    "\n",
    "        p = height / width\n",
    "        focal_length = (float(width) * 0.5) / math.tan(\n",
    "            math.radians(h_fov * 0.5))*10**-6  # Calculating the focal length from the FoV\n",
    "        cam = np.eye(3, dtype=np.float32)\n",
    "        cx = width * 0.5  # define center x\n",
    "        cy = height * 0.5  # define center y\n",
    "        fx = focal_length # define focal length x\n",
    "        fy = focal_length * p  # (vFov / fov)  # define focal length y scaled to vertical fov\n",
    "        px = 1*10**-6\n",
    "        py = p*10**-6\n",
    "\n",
    "        principal_point = (cx,cy)\n",
    "\n",
    "        # Pose\n",
    "        roll_vcf = ORIENTATION[cameraID][0]\n",
    "        yaw_vcf = ORIENTATION[cameraID][1]\n",
    "        pitch_vcf = ORIENTATION[cameraID][2]\n",
    "        vessel = vessels[VESSEL_TO_PLACE_CAMERA_ON]\n",
    "        pos_vcf = get_pos_vcf(vessel, CAMERA_PLACEMENTS[cameraID])\n",
    "\n",
    "\n",
    "        camera = VirtualCamera(focal_length, px, py, principal_point, image_bounds)\n",
    "        camera.place_camera_on_vessel(pos_vcf, roll_vcf, pitch_vcf, yaw_vcf)\n",
    "    # elif cameraType == OTHER TYPES:\n",
    "    \n",
    "    cameras[cameraID] = camera\n",
    "\n",
    "camera_rig = CameraRig(cameras, vessel, wave_induced_camera_disturbance_coef=wave_induced_camera_disturbance_coef)\n"
   ]
  },
  {
   "attachments": {},
   "cell_type": "markdown",
   "metadata": {},
   "source": [
    "# Stream pose data"
   ]
  },
  {
   "cell_type": "code",
   "execution_count": 15,
   "metadata": {},
   "outputs": [],
   "source": [
    "# Opening JSON file: containing the poses of the moving obstacles - the important stuff\n",
    "f = open(dynamics_path)\n",
    "# Returns JSON object as a dictionary stream\n",
    "data_dynamic = json_stream.load(f, persistent=True)"
   ]
  },
  {
   "cell_type": "code",
   "execution_count": 16,
   "metadata": {},
   "outputs": [],
   "source": [
    "# Start streaming\n",
    "time_stream = data_dynamic[\"time_s\"]\n",
    "for i, t in enumerate(time_stream):\n",
    "    if float(t) > MAX_TIME_STEPS:\n",
    "        break\n",
    "    # One timestep at the time\n",
    "    for vesselID in time_stream[t].keys():\n",
    "        # Get current pose data: all given in world coordinates btw.\n",
    "        center_pos = time_stream[t][vesselID][\"center_position_m\"]\n",
    "        heading = time_stream[t][vesselID][\"heading_rad\"]\n",
    "        x = center_pos[0]\n",
    "        y = center_pos[1]\n",
    "        z = 0\n",
    "        time_stamp = float(t)\n",
    "        vessel_dict[vesselID].get_track().addPosition(x, y, z, heading, time_stamp)\n",
    "    if CALCULATE:    \n",
    "        perform_one_time_step_poseData(dsg, errorGenerator, camera_rig, time_stamp, writeToJson=WRITE_TO_JSON, path=simulation_folder)\n"
   ]
  },
  {
   "cell_type": "code",
   "execution_count": 17,
   "metadata": {},
   "outputs": [
    {
     "name": "stdout",
     "output_type": "stream",
     "text": [
      "Loading projections from json\n",
      "Visualizing projections\n",
      "Moviepy - Building video ./boats_in_fishtank/simulation/projectedPoints_C0.mp4.\n",
      "Moviepy - Writing video ./boats_in_fishtank/simulation/projectedPoints_C0.mp4\n",
      "\n"
     ]
    },
    {
     "name": "stderr",
     "output_type": "stream",
     "text": [
      "                                                            \r"
     ]
    },
    {
     "name": "stdout",
     "output_type": "stream",
     "text": [
      "Moviepy - Done !\n",
      "Moviepy - video ready ./boats_in_fishtank/simulation/projectedPoints_C0.mp4\n"
     ]
    },
    {
     "data": {
      "image/png": "[encoded data removed]",
      "text/plain": [
       "<Figure size 1232x1028 with 1 Axes>"
      ]
     },
     "metadata": {},
     "output_type": "display_data"
    }
   ],
   "source": [
    "# Visualize from json files\n",
    "if VISUALIZE:\n",
    "    #pps_path = os.path.join(simulation_folder, 'projectedPoints.json')\n",
    "    #annot_path = os.path.join(simulation_folder, 'annotations.json')\n",
    "    #detection_path = os.path.join(simulation_folder, 'detections.json')\n",
    "\n",
    "    pps_paths = {cameraID: os.path.join(simulation_folder, f'projectedPoints_C{cameraID}.json') for cameraID in cameras.keys()}\n",
    "    annots_paths = {cameraID: os.path.join(simulation_folder, f'annotations_C{cameraID}.json') for cameraID in cameras.keys()}\n",
    "    detections_paths = {cameraID: os.path.join(simulation_folder, f'detections_C{cameraID}.json') for cameraID in cameras.keys()}\n",
    "    image_bounds = {cameraID: camera_rig.cameras[cameraID].image_bounds for cameraID in cameras.keys()}\n",
    "    cameraIDs = list(cameras.keys())\n",
    "    ownship_id = vessels[VESSEL_TO_PLACE_CAMERA_ON].id if VESSEL_TO_PLACE_CAMERA_ON else None\n",
    "    \n",
    "\n",
    "    #visualize_dynamic_scene_mov(vessels, folder_path=simulation_folder, fps=FPS, max_time_steps=MAX_TIME_STEPS, y_x_lim=200)\n",
    "    #visualize_camera_pose_in_dsg_mov(camera_rig, vessels, folder_path=simulation_folder, fps=FPS, max_time_steps=MAX_TIME_STEPS, y_x_lim=200, ownship_id=ownship_id)\n",
    "    visualize_projections_multiple_cameras(cameraIDs, pps_paths, image_bounds, camera_rig.horizon, folder_path=simulation_folder,fps=FPS, max_time_steps=MAX_TIME_STEPS, display_when_min_vessels=MIN_VESSELS)\n",
    "    #visualize_annotations_multiple_cameras(cameraIDs, annots_paths, image_bounds, horizons=camera_rig.horizon, folder_path=simulation_folder, fps=FPS, max_time_steps=MAX_TIME_STEPS, display_when_min_vessels=MIN_VESSELS)\n",
    "    #visualize_detections_multiple_cameras(cameraIDs, detections_paths, image_bounds, horizons=camera_rig.horizon, show_annotations=True, annotations_paths=annots_paths, folder_path=simulation_folder, fps=FPS, max_time_steps=MAX_TIME_STEPS, display_when_min_vessels=MIN_VESSELS, temporal_state_history=errorGenerator.temporal_model.previous_states, temporal_state_names=errorGenerator.temporal_model.state_names)\n"
   ]
  },
  {
   "cell_type": "code",
   "execution_count": null,
   "metadata": {},
   "outputs": [],
   "source": []
  }
 ],
 "metadata": {
  "kernelspec": {
   "display_name": "myvenv",
   "language": "python",
   "name": "python3"
  },
  "language_info": {
   "codemirror_mode": {
    "name": "ipython",
    "version": 3
   },
   "file_extension": ".py",
   "mimetype": "text/x-python",
   "name": "python",
   "nbconvert_exporter": "python",
   "pygments_lexer": "ipython3",
   "version": "3.10.7"
  },
  "orig_nbformat": 4
 },
 "nbformat": 4,
 "nbformat_minor": 2
}
