{
 "cells": [
  {
   "cell_type": "code",
   "execution_count": 1,
   "metadata": {},
   "outputs": [],
   "source": [
    "import json\n",
    "from datatypes.vessel import Vessel\n",
    "from datatypes.track import Track\n",
    "from dynamicSceneGenerator import DynamicSceneGenerator\n",
    "\n",
    "from visualize import visualize_dynamic_scene, visualize_camera_pose_in_dsg, visualize_projections, visualize_bounding_boxes\n",
    "from MODSIM import create_and_place_simple_legacy_camera, project_all_points, create_all_bbs, tracks_to_json, vessels_to_json\n"
   ]
  },
  {
   "cell_type": "code",
   "execution_count": 2,
   "metadata": {},
   "outputs": [],
   "source": [
    "# Get vessels\n",
    "\n",
    "with open('./henriksPoseData/vehicle_characteristics_henrik.json', 'r') as f:\n",
    "    vessel_dict = json.load(f)\n",
    "\n",
    "# air_draft: int = 2, beam: int = 2, length: int = 4, label: str = \"\")\n",
    "vessels = [Vessel(vesselID, length=vessel['length_m'], beam=vessel['width_m'], label=vessel['type']) for vesselID, vessel in vessel_dict.items()]"
   ]
  },
  {
   "cell_type": "code",
   "execution_count": 3,
   "metadata": {},
   "outputs": [],
   "source": [
    "# Create dynamic scene with vessels\n",
    "\n",
    "dsg = DynamicSceneGenerator(vessels)"
   ]
  },
  {
   "cell_type": "code",
   "execution_count": 4,
   "metadata": {},
   "outputs": [],
   "source": [
    "# Load tracks \n",
    "with open('./henriksPoseData/dynamics.json', 'r') as f:\n",
    "    dynamics = json.load(f)\n",
    "\n",
    "tracks = {vessel.id: Track() for vessel in vessels}\n",
    "\n",
    "for t, positions in dynamics['time_s'].items():\n",
    "    for vesselID, position in positions.items():\n",
    "        x = position['center_position_m'][0]\n",
    "        y = position['center_position_m'][1]\n",
    "        z = 0\n",
    "        heading_rad = position['heading_rad'] \n",
    "        time_stamp = float(t)\n",
    "        tracks[vesselID].addPosition(x, y, z, heading_rad, time_stamp)"
   ]
  },
  {
   "cell_type": "code",
   "execution_count": 5,
   "metadata": {},
   "outputs": [],
   "source": [
    "# Update each vessel in the scene with the correct track\n",
    "for vessel in dsg.get_vessels():\n",
    "    vessel.set_track(tracks[vessel.id])"
   ]
  },
  {
   "cell_type": "code",
   "execution_count": 6,
   "metadata": {},
   "outputs": [],
   "source": [
    "simulation_folder = './henriksPoseData/'\n",
    "\n",
    "vessels = dsg.get_vessels()\n",
    "tracks_to_json(vessels, simulation_folder)\n",
    "vessels_to_json(vessels, simulation_folder)"
   ]
  },
  {
   "cell_type": "code",
   "execution_count": 7,
   "metadata": {},
   "outputs": [],
   "source": [
    "# visualize_dynamic_scene(vessels, folder_path=simulation_folder, y_x_lim=150)"
   ]
  },
  {
   "cell_type": "code",
   "execution_count": 8,
   "metadata": {},
   "outputs": [],
   "source": [
    "largest_radius = 75\n",
    "path_centre = (75,40)\n",
    "height = 60\n",
    "camera = create_and_place_simple_legacy_camera(largest_radius, path_centre, height=height)"
   ]
  },
  {
   "cell_type": "code",
   "execution_count": 9,
   "metadata": {},
   "outputs": [],
   "source": [
    "# visualize_camera_pose_in_dsg(camera, vessels, folder_path=simulation_folder)"
   ]
  },
  {
   "cell_type": "code",
   "execution_count": 10,
   "metadata": {},
   "outputs": [],
   "source": [
    "all_projected_points = project_all_points(camera, vessels, writeToJson=True, folder_path=simulation_folder)"
   ]
  },
  {
   "cell_type": "code",
   "execution_count": 11,
   "metadata": {},
   "outputs": [],
   "source": [
    "# visualize_projections(all_projected_points, camera.image_bounds, folder_path=simulation_folder)"
   ]
  },
  {
   "cell_type": "code",
   "execution_count": 12,
   "metadata": {},
   "outputs": [],
   "source": [
    "all_bbs=create_all_bbs(all_projected_points, writeToJson=True, folder_path=simulation_folder)"
   ]
  },
  {
   "cell_type": "code",
   "execution_count": 13,
   "metadata": {},
   "outputs": [],
   "source": [
    "# visualize_bounding_boxes(all_bbs, camera.image_bounds, folder_path=simulation_folder)"
   ]
  },
  {
   "cell_type": "code",
   "execution_count": null,
   "metadata": {},
   "outputs": [],
   "source": []
  }
 ],
 "metadata": {
  "kernelspec": {
   "display_name": "myvenv",
   "language": "python",
   "name": "python3"
  },
  "language_info": {
   "codemirror_mode": {
    "name": "ipython",
    "version": 3
   },
   "file_extension": ".py",
   "mimetype": "text/x-python",
   "name": "python",
   "nbconvert_exporter": "python",
   "pygments_lexer": "ipython3",
   "version": "3.10.7"
  },
  "orig_nbformat": 4,
  "vscode": {
   "interpreter": {
    "hash": "cd9570bf49f9b952fb29daa244b5c8b5b40ff513774df97d00f859d7a650f70e"
   }
  }
 },
 "nbformat": 4,
 "nbformat_minor": 2
}
